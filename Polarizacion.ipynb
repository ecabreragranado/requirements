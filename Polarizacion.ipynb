{
 "cells": [
  {
   "cell_type": "code",
   "execution_count": 1,
   "metadata": {
    "collapsed": false
   },
   "outputs": [
    {
     "data": {
      "application/vnd.jupyter.widget-view+json": {
       "model_id": "671fe5275ccb47ff93cf3d00af81cb5b",
       "version_major": 2,
       "version_minor": 0
      },
      "text/plain": [
       "VBox(children=(FloatSlider(value=0.0, description='Desfase (x $\\\\pi$)', max=2.0, style=SliderStyle(description…"
      ]
     },
     "execution_count": 1,
     "metadata": {
     },
     "output_type": "execute_result"
    }
   ],
   "source": [
    "import numpy as np\n",
    "import matplotlib.pyplot as plt\n",
    "import ipywidgets as widgets\n",
    "widgets.__version__\n",
    "from IPython.display import display,clear_output\n",
    "\n",
    "plt.ioff()\n",
    "ax=plt.gca()\n",
    "ax.set_aspect(0.9)\n",
    "ax.set_frame_on(False)\n",
    "\n",
    "out=widgets.Output()\n",
    "button=widgets.Button(description='Mostrar')\n",
    "style = {'description_width': 'initial'}\n",
    "deltaww = widgets.FloatSlider(value=0,min=0,max=2.0,step = 0.1, description=r'Desfase (x $\\pi$)',\n",
    "                            style=style)\n",
    "vbox=widgets.VBox(children=(deltaww,button,out))\n",
    "display(vbox)\n",
    "\n",
    "w = 10\n",
    "t = np.linspace(0,10/w,100)\n",
    "E0x = 1\n",
    "E0y = 1\n",
    "v = 1\n",
    "k = w/v\n",
    "\n",
    "def click(b):\n",
    "    delta = deltaww.value*np.pi\n",
    "    E0x=1\n",
    "    E0y=1\n",
    "    Ex = E0x*np.cos(w*t)\n",
    "    Ey = E0y*np.cos(w*t + delta)\n",
    "    ax.clear()\n",
    "    ax.plot(Ex,Ey)\n",
    "    ax.set_xlabel('Ex')\n",
    "    ax.set_ylabel('Ey')\n",
    "    ax.arrow(0,0,0,E0y*np.cos(np.pi/4 +delta),head_width=0.03,length_includes_head=True)\n",
    "    ax.arrow(0,0,E0x*np.cos(np.pi/4),0,head_width=0.03,length_includes_head=True)\n",
    "    ax.arrow(0,0,E0x*np.cos(np.pi/4),E0y*np.cos(np.pi/4 +delta),head_width=0.03,length_includes_head=True,color='red')\n",
    "    with out:\n",
    "        clear_output(wait=True)\n",
    "        display(ax.figure)\n",
    "\n",
    "button.on_click(click)\n",
    "click(None)\n",
    "\n",
    "\n"
   ]
  },
  {
   "cell_type": "code",
   "execution_count": 7,
   "metadata": {
    "collapsed": false
   },
   "outputs": [
    {
     "data": {
      "application/vnd.jupyter.widget-view+json": {
       "model_id": "ebc3e88664dc475ebe496f0e5d1c444f",
       "version_major": 2,
       "version_minor": 0
      },
      "text/plain": [
       "FloatSlider(value=0.0, description='Desfase (x $\\\\pi$)', max=2.0, style=SliderStyle(description_width='initial…"
      ]
     },
     "execution_count": 7,
     "metadata": {
     },
     "output_type": "execute_result"
    },
    {
     "data": {
      "image/png": "[encoded data removed]",
      "text/plain": [
       "<Figure size 432x288 with 1 Axes>"
      ]
     },
     "execution_count": 7,
     "metadata": {
      "image/png": {
       "height": 252,
       "width": 286
      }
     },
     "output_type": "execute_result"
    }
   ],
   "source": [
    "import numpy as np\n",
    "import matplotlib.pyplot as plt\n",
    "import ipywidgets as widgets\n",
    "from IPython.display import display\n",
    "\n",
    "plt.figure()\n",
    "ax=plt.gca()\n",
    "ax.set_aspect(0.9)\n",
    "\n",
    "\n",
    "w = 2*np.pi\n",
    "tv = np.linspace(0,10/w,100)\n",
    "\n",
    "\n",
    "def funobserve(change):\n",
    "    delta = change['new']*np.pi\n",
    "    print(delta)\n",
    "    E0x=1\n",
    "    E0y=1\n",
    "    Ex = E0x*np.cos(w*tv)\n",
    "    Ey = E0y*np.cos(w*tv + delta)\n",
    "    #ax.clear()\n",
    "    ax.plot(Ex,Ey)\n",
    "    ax.set_xlabel('Ex')\n",
    "    ax.set_ylabel('Ey')\n",
    "    ax.arrow(0,0,0,E0y*np.cos(w*t +delta),head_width=0.03,length_includes_head=True)\n",
    "    ax.arrow(0,0,E0x*np.cos(w*t),0,head_width=0.03,length_includes_head=True)\n",
    "    ax.arrow(0,0,E0x*np.cos(w*t),E0y*np.cos(w*t +delta),head_width=0.03,length_includes_head=True,color='red')\n",
    "    fig.canvas_draw()\n",
    "\n",
    "style = {'description_width': 'initial'}\n",
    "deltafloat = widgets.FloatSlider(value=0,min=0,max=2.0,step = 0.1, description=r'Desfase (x $\\pi$)',\n",
    "                            style=style)\n",
    "display(deltafloat)\n",
    "deltafloat.observe(funobserve,names='value')"
   ]
  },
  {
   "cell_type": "code",
   "execution_count": 0,
   "metadata": {
    "collapsed": false
   },
   "outputs": [
   ],
   "source": [
    "import numpy as np\n",
    "import matplotlib.pyplot as plt\n",
    "import ipywidgets as widgets\n",
    "from IPython.display import display\n",
    "\n",
    "plt.figure()\n",
    "ax=plt.gca()\n",
    "ax.set_aspect(0.9)\n",
    "\n",
    "\n",
    "w = 2*np.pi\n",
    "tv = np.linspace(0,10/w,100)\n",
    "\n",
    "\n",
    "def funobserve(delta,t):\n",
    "    delta = delta*np.pi\n",
    "    E0x=1\n",
    "    E0y=1\n",
    "    Ex = E0x*np.cos(w*tv)\n",
    "    Ey = E0y*np.cos(w*tv + delta)\n",
    "    ax.clear()\n",
    "    ax.plot(Ex,Ey)\n",
    "    ax.set_xlabel('Ex')\n",
    "    ax.set_ylabel('Ey')\n",
    "    ax.arrow(0,0,0,E0y*np.cos(w*t +delta),head_width=0.03,length_includes_head=True)\n",
    "    ax.arrow(0,0,E0x*np.cos(w*t),0,head_width=0.03,length_includes_head=True)\n",
    "    ax.arrow(0,0,E0x*np.cos(w*t),E0y*np.cos(w*t +delta),head_width=0.03,length_includes_head=True,color='red')\n",
    "    display(ax.figure)\n",
    "\n",
    "\n",
    "deltaint = widgets.interact(funobserve,delta=(0,2,0.1),t =(0,1,0.2))\n",
    "display(deltaint)"
   ]
  },
  {
   "cell_type": "code",
   "execution_count": 0,
   "metadata": {
    "collapsed": false
   },
   "outputs": [
   ],
   "source": [
   ]
  }
 ],
 "metadata": {
  "kernelspec": {
   "display_name": "Python 3 (system-wide)",
   "language": "python",
   "metadata": {
    "cocalc": {
     "description": "Python 3 programming language",
     "priority": 100,
     "url": "https://www.python.org/"
    }
   },
   "name": "python3"
  },
  "language_info": {
   "codemirror_mode": {
    "name": "ipython",
    "version": 3
   },
   "file_extension": ".py",
   "mimetype": "text/x-python",
   "name": "python",
   "nbconvert_exporter": "python",
   "pygments_lexer": "ipython3",
   "version": "3.6.8"
  }
 },
 "nbformat": 4,
 "nbformat_minor": 0
}